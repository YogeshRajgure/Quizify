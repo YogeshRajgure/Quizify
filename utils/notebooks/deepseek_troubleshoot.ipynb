{
 "cells": [
  {
   "cell_type": "code",
   "execution_count": 3,
   "metadata": {},
   "outputs": [],
   "source": [
    "response = \"\"\"\\n\\n```json\\n{\\n    \"title\": \"AI and Data Science Quiz Questions\",\\n    \"questions\": [\\n        {\\n            \"question\": \"What is the capital of France?\",\\n            \"choices\": [\"Paris\", \"London\", \"Berlin\", \"Madrid\"],\\n            \"answer\": \"Paris\"\\n        },\\n        {\\n            \"question\": \"What is the most common language spoken by French people?\",\\n            \"choices\": [\"English\", \"Spanish\", \"French\", \"German\"]\\n        },\\n        {\\n            \"question\": \"Experience with which CI/CD pipeline deployment process?\",\\n            \"choices\": [\"Jira, Trello\", \"GanttChart, Asana\", \"TeamPlan, Clio\", \"Kibana, Palcium\"]\\n        },\\n        {\\n            \"question\": \"Number of parameters in my model for image detection using TensorFlow and OpenCV.\",\\n            \"choices\": [\"1000\", \"5000\", \"2000\", \"3000\"]\\n        },\\n        {\\n            \"question\": \"Model to predict customer lifetime value (CLTV) improved accuracy by 10%.\",\\n            \"choices\": [\"45%\", \"85%\", \"93%\", \"No improvement observed\"]\\n        },\\n        {\\n            \"question\": \"Data scientist SDE I role in Bengaluru, which project did I develop?\",\\n            \"choices\": [\"Real-Time Sales Data Dashboard\", \"AI-based Pharmaceutical NLP Article Classifier\", \"Health Risk Prediction Model\"]\\n        },\\n        {\\n            \"question\": \"AI benefits from the pandemic in healthcare through my project.\",\\n            \"choices\": [\"Shorter response times, reduced costs\", \"Real-time decision-making\", \"Advanced analytics for quick decisions\", \"Improved patient outcomes\"]\\n        },\\n        {\\n            \"question\": \"Choosing data science role based on education and experience.\",\\n            \"choices\": [\"Data Scientist, SPPU 2023\", \"Python Developer, Remote 2021\", \"AI Enthusiast, Pune 2022\", \"Machine Learning Engineer, Bengaluru 2023\"]\\n        },\\n        {\\n            \"question\": \"Benefits of using Python for data visualization.\",\\n            \"choices\": [\"Quick visualization tasks\", \"Real-time insights in large datasets\", \"Advanced predictive modeling\", \"Improved error rates\"]\\n        },\\n        {\\n            \"question\": \"Collaboration tools used during projects related to AI and data science.\",\\n            \"choices\": [\"Tableau, Excel, Power BI\", \"Jira, Trello, Asana\", \"Docker, Jupyter Notebooks\", \"GitHub, Slack\"]\\n        }\\n    ]\\n}\\n```\"\"\""
   ]
  },
  {
   "cell_type": "code",
   "execution_count": 4,
   "metadata": {},
   "outputs": [
    {
     "data": {
      "text/plain": [
       "'\\n\\n```json\\n{\\n    \"title\": \"AI and Data Science Quiz Questions\",\\n    \"questions\": [\\n        {\\n            \"question\": \"What is the capital of France?\",\\n            \"choices\": [\"Paris\", \"London\", \"Berlin\", \"Madrid\"],\\n            \"answer\": \"Paris\"\\n        },\\n        {\\n            \"question\": \"What is the most common language spoken by French people?\",\\n            \"choices\": [\"English\", \"Spanish\", \"French\", \"German\"]\\n        },\\n        {\\n            \"question\": \"Experience with which CI/CD pipeline deployment process?\",\\n            \"choices\": [\"Jira, Trello\", \"GanttChart, Asana\", \"TeamPlan, Clio\", \"Kibana, Palcium\"]\\n        },\\n        {\\n            \"question\": \"Number of parameters in my model for image detection using TensorFlow and OpenCV.\",\\n            \"choices\": [\"1000\", \"5000\", \"2000\", \"3000\"]\\n        },\\n        {\\n            \"question\": \"Model to predict customer lifetime value (CLTV) improved accuracy by 10%.\",\\n            \"choices\": [\"45%\", \"85%\", \"93%\", \"No improvement observed\"]\\n        },\\n        {\\n            \"question\": \"Data scientist SDE I role in Bengaluru, which project did I develop?\",\\n            \"choices\": [\"Real-Time Sales Data Dashboard\", \"AI-based Pharmaceutical NLP Article Classifier\", \"Health Risk Prediction Model\"]\\n        },\\n        {\\n            \"question\": \"AI benefits from the pandemic in healthcare through my project.\",\\n            \"choices\": [\"Shorter response times, reduced costs\", \"Real-time decision-making\", \"Advanced analytics for quick decisions\", \"Improved patient outcomes\"]\\n        },\\n        {\\n            \"question\": \"Choosing data science role based on education and experience.\",\\n            \"choices\": [\"Data Scientist, SPPU 2023\", \"Python Developer, Remote 2021\", \"AI Enthusiast, Pune 2022\", \"Machine Learning Engineer, Bengaluru 2023\"]\\n        },\\n        {\\n            \"question\": \"Benefits of using Python for data visualization.\",\\n            \"choices\": [\"Quick visualization tasks\", \"Real-time insights in large datasets\", \"Advanced predictive modeling\", \"Improved error rates\"]\\n        },\\n        {\\n            \"question\": \"Collaboration tools used during projects related to AI and data science.\",\\n            \"choices\": [\"Tableau, Excel, Power BI\", \"Jira, Trello, Asana\", \"Docker, Jupyter Notebooks\", \"GitHub, Slack\"]\\n        }\\n    ]\\n}\\n```'"
      ]
     },
     "execution_count": 4,
     "metadata": {},
     "output_type": "execute_result"
    }
   ],
   "source": [
    "response"
   ]
  },
  {
   "cell_type": "code",
   "execution_count": 7,
   "metadata": {},
   "outputs": [],
   "source": [
    "res2 = response.replace(\"\\n\", \"\")"
   ]
  },
  {
   "cell_type": "code",
   "execution_count": 21,
   "metadata": {},
   "outputs": [
    {
     "data": {
      "text/plain": [
       "'{    \"title\": \"AI and Data Science Quiz Questions\",    \"questions\": [        {            \"question\": \"What is the capital of France?\",            \"choices\": [\"Paris\", \"London\", \"Berlin\", \"Madrid\"],            \"answer\": \"Paris\"        },        {            \"question\": \"What is the most common language spoken by French people?\",            \"choices\": [\"English\", \"Spanish\", \"French\", \"German\"]        },        {            \"question\": \"Experience with which CI/CD pipeline deployment process?\",            \"choices\": [\"Jira, Trello\", \"GanttChart, Asana\", \"TeamPlan, Clio\", \"Kibana, Palcium\"]        },        {            \"question\": \"Number of parameters in my model for image detection using TensorFlow and OpenCV.\",            \"choices\": [\"1000\", \"5000\", \"2000\", \"3000\"]        },        {            \"question\": \"Model to predict customer lifetime value (CLTV) improved accuracy by 10%.\",            \"choices\": [\"45%\", \"85%\", \"93%\", \"No improvement observed\"]        },        {            \"question\": \"Data scientist SDE I role in Bengaluru, which project did I develop?\",            \"choices\": [\"Real-Time Sales Data Dashboard\", \"AI-based Pharmaceutical NLP Article Classifier\", \"Health Risk Prediction Model\"]        },        {            \"question\": \"AI benefits from the pandemic in healthcare through my project.\",            \"choices\": [\"Shorter response times, reduced costs\", \"Real-time decision-making\", \"Advanced analytics for quick decisions\", \"Improved patient outcomes\"]        },        {            \"question\": \"Choosing data science role based on education and experience.\",            \"choices\": [\"Data Scientist, SPPU 2023\", \"Python Developer, Remote 2021\", \"AI Enthusiast, Pune 2022\", \"Machine Learning Engineer, Bengaluru 2023\"]        },        {            \"question\": \"Benefits of using Python for data visualization.\",            \"choices\": [\"Quick visualization tasks\", \"Real-time insights in large datasets\", \"Advanced predictive modeling\", \"Improved error rates\"]        },        {            \"question\": \"Collaboration tools used during projects related to AI and data science.\",            \"choices\": [\"Tableau, Excel, Power BI\", \"Jira, Trello, Asana\", \"Docker, Jupyter Notebooks\", \"GitHub, Slack\"]        }    ]}'"
      ]
     },
     "execution_count": 21,
     "metadata": {},
     "output_type": "execute_result"
    }
   ],
   "source": [
    "if res2.startswith(\"```json\"):\n",
    "    response_json = res2[7:-3]\n",
    "response_json"
   ]
  },
  {
   "cell_type": "code",
   "execution_count": 22,
   "metadata": {},
   "outputs": [
    {
     "data": {
      "text/plain": [
       "'{    \"title\": \"AI and Data Science Quiz Questions\",    \"questions\": [        {            \"question\": \"What is the capital of France?\",            \"choices\": [\"Paris\", \"London\", \"Berlin\", \"Madrid\"],            \"answer\": \"Paris\"        },        {            \"question\": \"What is the most common language spoken by French people?\",            \"choices\": [\"English\", \"Spanish\", \"French\", \"German\"]        },        {            \"question\": \"Experience with which CI/CD pipeline deployment process?\",            \"choices\": [\"Jira, Trello\", \"GanttChart, Asana\", \"TeamPlan, Clio\", \"Kibana, Palcium\"]        },        {            \"question\": \"Number of parameters in my model for image detection using TensorFlow and OpenCV.\",            \"choices\": [\"1000\", \"5000\", \"2000\", \"3000\"]        },        {            \"question\": \"Model to predict customer lifetime value (CLTV) improved accuracy by 10%.\",            \"choices\": [\"45%\", \"85%\", \"93%\", \"No improvement observed\"]        },        {            \"question\": \"Data scientist SDE I role in Bengaluru, which project did I develop?\",            \"choices\": [\"Real-Time Sales Data Dashboard\", \"AI-based Pharmaceutical NLP Article Classifier\", \"Health Risk Prediction Model\"]        },        {            \"question\": \"AI benefits from the pandemic in healthcare through my project.\",            \"choices\": [\"Shorter response times, reduced costs\", \"Real-time decision-making\", \"Advanced analytics for quick decisions\", \"Improved patient outcomes\"]        },        {            \"question\": \"Choosing data science role based on education and experience.\",            \"choices\": [\"Data Scientist, SPPU 2023\", \"Python Developer, Remote 2021\", \"AI Enthusiast, Pune 2022\", \"Machine Learning Engineer, Bengaluru 2023\"]        },        {            \"question\": \"Benefits of using Python for data visualization.\",            \"choices\": [\"Quick visualization tasks\", \"Real-time insights in large datasets\", \"Advanced predictive modeling\", \"Improved error rates\"]        },        {            \"question\": \"Collaboration tools used during projects related to AI and data science.\",            \"choices\": [\"Tableau, Excel, Power BI\", \"Jira, Trello, Asana\", \"Docker, Jupyter Notebooks\", \"GitHub, Slack\"]        }    ]}'"
      ]
     },
     "execution_count": 22,
     "metadata": {},
     "output_type": "execute_result"
    }
   ],
   "source": [
    "response_json"
   ]
  },
  {
   "cell_type": "code",
   "execution_count": 23,
   "metadata": {},
   "outputs": [
    {
     "data": {
      "text/plain": [
       "{'title': 'AI and Data Science Quiz Questions',\n",
       " 'questions': [{'question': 'What is the capital of France?',\n",
       "   'choices': ['Paris', 'London', 'Berlin', 'Madrid'],\n",
       "   'answer': 'Paris'},\n",
       "  {'question': 'What is the most common language spoken by French people?',\n",
       "   'choices': ['English', 'Spanish', 'French', 'German']},\n",
       "  {'question': 'Experience with which CI/CD pipeline deployment process?',\n",
       "   'choices': ['Jira, Trello',\n",
       "    'GanttChart, Asana',\n",
       "    'TeamPlan, Clio',\n",
       "    'Kibana, Palcium']},\n",
       "  {'question': 'Number of parameters in my model for image detection using TensorFlow and OpenCV.',\n",
       "   'choices': ['1000', '5000', '2000', '3000']},\n",
       "  {'question': 'Model to predict customer lifetime value (CLTV) improved accuracy by 10%.',\n",
       "   'choices': ['45%', '85%', '93%', 'No improvement observed']},\n",
       "  {'question': 'Data scientist SDE I role in Bengaluru, which project did I develop?',\n",
       "   'choices': ['Real-Time Sales Data Dashboard',\n",
       "    'AI-based Pharmaceutical NLP Article Classifier',\n",
       "    'Health Risk Prediction Model']},\n",
       "  {'question': 'AI benefits from the pandemic in healthcare through my project.',\n",
       "   'choices': ['Shorter response times, reduced costs',\n",
       "    'Real-time decision-making',\n",
       "    'Advanced analytics for quick decisions',\n",
       "    'Improved patient outcomes']},\n",
       "  {'question': 'Choosing data science role based on education and experience.',\n",
       "   'choices': ['Data Scientist, SPPU 2023',\n",
       "    'Python Developer, Remote 2021',\n",
       "    'AI Enthusiast, Pune 2022',\n",
       "    'Machine Learning Engineer, Bengaluru 2023']},\n",
       "  {'question': 'Benefits of using Python for data visualization.',\n",
       "   'choices': ['Quick visualization tasks',\n",
       "    'Real-time insights in large datasets',\n",
       "    'Advanced predictive modeling',\n",
       "    'Improved error rates']},\n",
       "  {'question': 'Collaboration tools used during projects related to AI and data science.',\n",
       "   'choices': ['Tableau, Excel, Power BI',\n",
       "    'Jira, Trello, Asana',\n",
       "    'Docker, Jupyter Notebooks',\n",
       "    'GitHub, Slack']}]}"
      ]
     },
     "execution_count": 23,
     "metadata": {},
     "output_type": "execute_result"
    }
   ],
   "source": [
    "eval(response_json)"
   ]
  },
  {
   "cell_type": "code",
   "execution_count": null,
   "metadata": {},
   "outputs": [],
   "source": []
  }
 ],
 "metadata": {
  "kernelspec": {
   "display_name": "myvenv",
   "language": "python",
   "name": "python3"
  },
  "language_info": {
   "codemirror_mode": {
    "name": "ipython",
    "version": 3
   },
   "file_extension": ".py",
   "mimetype": "text/x-python",
   "name": "python",
   "nbconvert_exporter": "python",
   "pygments_lexer": "ipython3",
   "version": "3.12.7"
  }
 },
 "nbformat": 4,
 "nbformat_minor": 2
}
